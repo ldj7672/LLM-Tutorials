{
  "nbformat": 4,
  "nbformat_minor": 0,
  "metadata": {
    "colab": {
      "provenance": [],
      "authorship_tag": "ABX9TyMVpIolARZBJitDhhsBoEZO",
      "include_colab_link": true
    },
    "kernelspec": {
      "name": "python3",
      "display_name": "Python 3"
    },
    "language_info": {
      "name": "python"
    }
  },
  "cells": [
    {
      "cell_type": "markdown",
      "metadata": {
        "id": "view-in-github",
        "colab_type": "text"
      },
      "source": [
        "<a href=\"https://colab.research.google.com/github/ldj7672/LLM-Tutorials/blob/main/examples/OpenAI_API_call.ipynb\" target=\"_parent\"><img src=\"https://colab.research.google.com/assets/colab-badge.svg\" alt=\"Open In Colab\"/></a>"
      ]
    },
    {
      "cell_type": "markdown",
      "source": [
        "# **OpenAI API Call**\n",
        "\n",
        "**OpenAI**의 **Chat API**를 호출해 보는 간단한 실습 코드입니다."
      ],
      "metadata": {
        "id": "IGSKG41yelP_"
      }
    },
    {
      "cell_type": "markdown",
      "source": [
        "## **1. 환경 세팅**\n",
        "- OpenAI 라이브러리 설치\n",
        "- API Key 입력"
      ],
      "metadata": {
        "id": "cml80vUosW3m"
      }
    },
    {
      "cell_type": "code",
      "execution_count": null,
      "metadata": {
        "colab": {
          "base_uri": "https://localhost:8080/"
        },
        "id": "Lg9EMEGXsK09",
        "outputId": "863c5e04-4eff-4e53-94a2-1e689c5a280b"
      },
      "outputs": [
        {
          "output_type": "stream",
          "name": "stdout",
          "text": [
            "\u001b[2K   \u001b[90m━━━━━━━━━━━━━━━━━━━━━━━━━━━━━━━━━━━━━━━━\u001b[0m \u001b[32m374.1/374.1 kB\u001b[0m \u001b[31m3.4 MB/s\u001b[0m eta \u001b[36m0:00:00\u001b[0m\n",
            "\u001b[2K   \u001b[90m━━━━━━━━━━━━━━━━━━━━━━━━━━━━━━━━━━━━━━━━\u001b[0m \u001b[32m76.4/76.4 kB\u001b[0m \u001b[31m3.7 MB/s\u001b[0m eta \u001b[36m0:00:00\u001b[0m\n",
            "\u001b[2K   \u001b[90m━━━━━━━━━━━━━━━━━━━━━━━━━━━━━━━━━━━━━━━━\u001b[0m \u001b[32m77.9/77.9 kB\u001b[0m \u001b[31m3.5 MB/s\u001b[0m eta \u001b[36m0:00:00\u001b[0m\n",
            "\u001b[2K   \u001b[90m━━━━━━━━━━━━━━━━━━━━━━━━━━━━━━━━━━━━━━━━\u001b[0m \u001b[32m318.9/318.9 kB\u001b[0m \u001b[31m14.0 MB/s\u001b[0m eta \u001b[36m0:00:00\u001b[0m\n",
            "\u001b[2K   \u001b[90m━━━━━━━━━━━━━━━━━━━━━━━━━━━━━━━━━━━━━━━━\u001b[0m \u001b[32m58.3/58.3 kB\u001b[0m \u001b[31m723.7 kB/s\u001b[0m eta \u001b[36m0:00:00\u001b[0m\n",
            "\u001b[?25h"
          ]
        }
      ],
      "source": [
        "!pip -q install openai"
      ]
    },
    {
      "cell_type": "code",
      "source": [
        "from openai import OpenAI\n",
        "import os\n",
        "from getpass import getpass\n",
        "\n",
        "# Colab에 API 키를 안전하게 입력받기\n",
        "api_key = getpass(\"OpenAI API 키를 입력하세요: \")\n",
        "\n",
        "# API 키를 환경 변수에 저장\n",
        "os.environ['OPENAI_API_KEY'] = api_key"
      ],
      "metadata": {
        "id": "QmIPe8Kvsjav"
      },
      "execution_count": null,
      "outputs": []
    },
    {
      "cell_type": "markdown",
      "source": [
        "## **2. OpenAI API 호출 함수**\n",
        "- model, message, temperatue, max_tokens를 입력받음"
      ],
      "metadata": {
        "id": "I_Z8rtgr0KGV"
      }
    },
    {
      "cell_type": "code",
      "source": [
        "def create_chat_completion(system_input, user_input, model=\"gpt-4o-mini\", temperature=1.15, max_tokens=150):\n",
        "    try:\n",
        "        # 메시지 목록을 자동으로 생성해요\n",
        "        messages = [\n",
        "            {\"role\": \"system\", \"content\": system_input},\n",
        "            {\"role\": \"user\", \"content\": user_input}\n",
        "        ]\n",
        "\n",
        "        response = OpenAI().chat.completions.create(\n",
        "            model=model,\n",
        "            messages=messages,\n",
        "            temperature=temperature,\n",
        "            max_tokens=max_tokens  # 최대 토큰 수를 지정해요\n",
        "        )\n",
        "        # 생성된 응답을 반환해요\n",
        "        return response\n",
        "    except Exception as e:\n",
        "        return f\"Error: {str(e)}\"\n"
      ],
      "metadata": {
        "id": "mhT4Uf8-sWj1"
      },
      "execution_count": null,
      "outputs": []
    },
    {
      "cell_type": "code",
      "source": [
        "# 메시지 입력\n",
        "system_input = \"넌 AI 전문 강사아. AI, 개발에 관련된 질문에만 친절하고 간략하게 답변해줘\"\n",
        "user_input = \"LLM으로 무엇을 할 수 있는지 설명해줘.\"\n",
        "\n",
        "# API 호출 및 결과 출력\n",
        "responses = create_chat_completion(system_input, user_input)\n",
        "responses"
      ],
      "metadata": {
        "colab": {
          "base_uri": "https://localhost:8080/"
        },
        "id": "T_hic1hmsWhj",
        "outputId": "327e7dff-d2a2-430c-d945-1fb8ab370717"
      },
      "execution_count": null,
      "outputs": [
        {
          "output_type": "execute_result",
          "data": {
            "text/plain": [
              "ChatCompletion(id='chatcmpl-A7eyRHqCz0wULxRMJ63iq2NrG8Swi', choices=[Choice(finish_reason='length', index=0, logprobs=None, message=ChatCompletionMessage(content='LLM(대형 언어 모델)은 다음과 같은 다양한 용도로 활용할 수 있습니다:\\n\\n1. **텍스트 생성**: 이야기, 기사, 시 등 다양한 유형의 글을 생성할 수 있습니다.\\n2. **질문 답변**: 특정 주제에 대한 질문에 대해 신속하게 답변할 수 있습니다.\\n3. **언어 번역**: 여러 언어 간의 번역을 지원합니다.\\n4. **대화형 인터페이스**: 챗봇 및 가상 비서와 같은 애플리케이션에 통합되어 사용자와 대화할 수 있습니다.\\n5. **텍스트 요약**: 긴 문서나 기사를 간결하게 요약합니다', refusal=None, role='assistant', function_call=None, tool_calls=None))], created=1726389163, model='gpt-4o-mini-2024-07-18', object='chat.completion', service_tier=None, system_fingerprint='fp_483d39d857', usage=CompletionUsage(completion_tokens=150, prompt_tokens=51, total_tokens=201, completion_tokens_details=CompletionTokensDetails(reasoning_tokens=0)))"
            ]
          },
          "metadata": {},
          "execution_count": 30
        }
      ]
    },
    {
      "cell_type": "code",
      "source": [
        "responses.choices[0].message.content"
      ],
      "metadata": {
        "colab": {
          "base_uri": "https://localhost:8080/",
          "height": 72
        },
        "id": "ZtbfnGbJsWUS",
        "outputId": "27c735da-42b9-4bfe-e56f-300f30ac9aae"
      },
      "execution_count": null,
      "outputs": [
        {
          "output_type": "execute_result",
          "data": {
            "text/plain": [
              "'LLM(대형 언어 모델)은 다음과 같은 다양한 용도로 활용할 수 있습니다:\\n\\n1. **텍스트 생성**: 이야기, 기사, 시 등 다양한 유형의 글을 생성할 수 있습니다.\\n2. **질문 답변**: 특정 주제에 대한 질문에 대해 신속하게 답변할 수 있습니다.\\n3. **언어 번역**: 여러 언어 간의 번역을 지원합니다.\\n4. **대화형 인터페이스**: 챗봇 및 가상 비서와 같은 애플리케이션에 통합되어 사용자와 대화할 수 있습니다.\\n5. **텍스트 요약**: 긴 문서나 기사를 간결하게 요약합니다'"
            ],
            "application/vnd.google.colaboratory.intrinsic+json": {
              "type": "string"
            }
          },
          "metadata": {},
          "execution_count": 32
        }
      ]
    }
  ]
}