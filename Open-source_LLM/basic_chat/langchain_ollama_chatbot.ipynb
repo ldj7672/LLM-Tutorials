{
 "cells": [
  {
   "cell_type": "markdown",
   "metadata": {},
   "source": [
    "# **Langchain과 Ollama를 이용한 대화형 챗봇 예제**\n",
    "\n",
    "**Langchain**과 **Ollama**를 이용해 **Open-source LLM**으로 대화형 챗봇을 만드는 예제입니다.\n",
    "\n",
    "\n",
    "*본 예제는 구글 코랩 환경이 아닙니다."
   ]
  },
  {
   "cell_type": "markdown",
   "metadata": {},
   "source": [
    "## **1. 환경 세팅**\n",
    "- 개발 환경에 필요 라이브러리 설치 : ollama, langchain, langchain_community,...\n",
    "- 필요 패키지 임포트\n",
    "- Ollama 모델 사용 방법"
   ]
  },
  {
   "cell_type": "code",
   "execution_count": 12,
   "metadata": {},
   "outputs": [],
   "source": [
    "# 필요한 라이브러리 임포트\n",
    "from langchain_community.llms import Ollama\n",
    "from langchain_core.prompts import PromptTemplate\n",
    "from langchain.chains import LLMChain\n",
    "from langchain.memory import ConversationBufferMemory\n",
    "from IPython.display import Markdown, display"
   ]
  },
  {
   "cell_type": "markdown",
   "metadata": {},
   "source": [
    "### Ollama 모델 사용 방법\n",
    "- [Ollama 레포지토리](https://github.com/ollama/ollama?tab=readme-ov-file) 참고하여 OS 별 Ollama 다운로드\n",
    "- `ollama pull {model_name}` 명령어로 로컬에 모델 다운로드\n",
    "- 본 예제에서는 \"gemma2:2b\" 모델 사용 \n",
    "- Ollama 레포지토리에서 모델 라이브러리를 참고하여 원하는 모델 다운로드 가능"
   ]
  },
  {
   "cell_type": "markdown",
   "metadata": {},
   "source": [
    "## **2. 모델 로드**\n",
    "- Ollama를 이용한 오픈소스 LLM 로드\n",
    "- 프롬프트 템플릿 & LLM Chain 생성\n",
    "- 대화 내용을 저장하는 메모리 버퍼 설정"
   ]
  },
  {
   "cell_type": "code",
   "execution_count": 13,
   "metadata": {},
   "outputs": [],
   "source": [
    "# Ollama LLM 설정 (원하는 모델을 선택하여 사용)\n",
    "llm = Ollama(model=\"gemma2:2b\")\n",
    "\n",
    "# 프롬프트 템플릿 생성 (대화의 맥락을 추가)\n",
    "template = \"\"\"\n",
    "            다음은 사용자와 AI 사이의 대화입니다.\n",
    "            대화를 이어서 하세요.\n",
    "            \n",
    "            {history}\n",
    "            \n",
    "            사용자: {question}\n",
    "            AI:\n",
    "            \"\"\"\n",
    "prompt = PromptTemplate(\n",
    "    input_variables=[\"history\", \"question\"],\n",
    "    template=template,\n",
    ")\n",
    "\n",
    "# 메모리 설정 (대화 내용을 저장하는 버퍼)\n",
    "memory = ConversationBufferMemory(input_key=\"question\", memory_key=\"history\")\n",
    "\n",
    "# LLMChain 생성 (메모리를 연결)\n",
    "llm_chain = LLMChain(prompt=prompt, llm=llm, memory=memory)"
   ]
  },
  {
   "cell_type": "markdown",
   "metadata": {},
   "source": [
    "## **3. LLM 대화형 챗봇 함수 선언**\n",
    "- LLM Chain을 이용해 대화형 챗봇 기능 구현\n",
    "- 이전 대화 내용을 기억한 상태로 질의 응답 진행"
   ]
  },
  {
   "cell_type": "code",
   "execution_count": 26,
   "metadata": {},
   "outputs": [],
   "source": [
    "# 함수 정의: 질문 입력 및 답변 출력\n",
    "def chatbot_with_memory():\n",
    "    print(\"대화형 챗봇과의 대화를 시작합니다. 종료하려면 '그만'이라고 입력하세요.\")\n",
    "    \n",
    "    while True:\n",
    "        # 사용자가 질문을 입력\n",
    "        question = input(\"\\n질문을 입력하세요: \")\n",
    "\n",
    "        # '그만'을 입력하면 종료\n",
    "        if question.lower() == \"그만\":\n",
    "            print(\"대화를 종료합니다.\")\n",
    "            break\n",
    "\n",
    "        # LLMChain을 사용하여 질문에 대한 답변 생성\n",
    "        response = llm_chain.run(question)\n",
    "\n",
    "        # 질문과 응답을 구분해서 출력\n",
    "        display(Markdown(f\"### **사용자 질문:**\\n{question}\\n\"))\n",
    "        display(Markdown(f\"### **LLM 응답:**\\n{response}\"))\n",
    "        print(\"==========================\")"
   ]
  },
  {
   "cell_type": "markdown",
   "metadata": {},
   "source": [
    "## **4. 대화 진행**\n",
    "- LLM에게 질문하고 답변을 받는 과정\n",
    "- 대화를 중지하고 싶은 경우 '그만'이라고 입력"
   ]
  },
  {
   "cell_type": "code",
   "execution_count": 27,
   "metadata": {},
   "outputs": [
    {
     "name": "stdout",
     "output_type": "stream",
     "text": [
      "대화형 챗봇과의 대화를 시작합니다. 종료하려면 '그만'이라고 입력하세요.\n"
     ]
    },
    {
     "data": {
      "text/markdown": [
       "### **사용자 질문:**\n",
       "비타민에 대해 알려줘\n"
      ],
      "text/plain": [
       "<IPython.core.display.Markdown object>"
      ]
     },
     "metadata": {},
     "output_type": "display_data"
    },
    {
     "data": {
      "text/markdown": [
       "### **LLM 응답:**\n",
       "## 비타민: 우리 몸의 필수적인 영양소! 🌈\n",
       "\n",
       "비타민은 우리 몸에서 중요한 역할을 하는 **필수적인 영양소**입니다.  💪  다양한 기능을 수행하며 건강 유지에 매우 중요합니다. 😉  \n",
       "\n",
       "### 비타민 종류와 그 역할들! ✨ \n",
       "\n",
       "1. **비타민 A (retinol):** 눈, 피부를 위한 강력한 영양소! 👀\n",
       "   * **눈:** 시야 확보 및 안구 주변 세포 성장 활성화에 필수적! ☀️\n",
       "   * **피부:**  노화 방지, 탄력 증진 및 윤기 개선에 도움을 줍니다.\n",
       "\n",
       "2. **비타민 B (B1, B2, B3, B5, B6, B7, B9, B12):** 에너지를 생산하는 데 필수적! 💪\n",
       "   * **이들의 역할:**  신경 기능 활성화와 신체 작용을 지켜주는 주요 역할입니다. 🧠\n",
       "\n",
       "3. **비타민 C (Ascorbic Acid):** 면역력 강화에 필수적인 영양소! 💪\n",
       "   * **피부:** 피부 노화, 미백, 균일성 증진, 피부 질환 예방에 도움을 줄 수 있습니다!\n",
       "\n",
       "4. **비타민 D (cholecalciferol):** 칼슘 소수와 골밀도 유지에 필수적! 🦴\n",
       "   * **뼈 건강:**  뼈 성장 및 건강 유지에 필수적입니다. \n",
       "\n",
       "5. **비타민 E (tocopherols):** 피부 보호, 항산화 작용, 안전을 위한 좋은 영양소!🛡️ \n",
       "   * **피부:**  자외선 차단, 피부 손상 예방에 도움을 줄 수 있습니다.\n",
       "\n",
       "### 비타민은 개인별 건강 상태에 따라 필요량이 다릅니다. 🩺\n",
       "\n",
       "**더 자세한 정보:** 각 비타민의 종류와 필요한 양에 대해 더 알고 싶으신가요? 😊 문자로 질문해주세요! \n",
       "\n",
       "\n",
       "\n"
      ],
      "text/plain": [
       "<IPython.core.display.Markdown object>"
      ]
     },
     "metadata": {},
     "output_type": "display_data"
    },
    {
     "name": "stdout",
     "output_type": "stream",
     "text": [
      "==========================\n"
     ]
    },
    {
     "data": {
      "text/markdown": [
       "### **사용자 질문:**\n",
       "B에 대해 조금 더 상세하게 알려줄래?\n"
      ],
      "text/plain": [
       "<IPython.core.display.Markdown object>"
      ]
     },
     "metadata": {},
     "output_type": "display_data"
    },
    {
     "data": {
      "text/markdown": [
       "### **LLM 응답:**\n",
       "네, 비타민 B에 대한 자세한 정보를 알려드릴게요! 💪\n",
       "\n",
       "**비타민 B은 우리 몸에서 에너지 생성과 신경 기능 활성화에 필수적인 영양소입니다. **  총 8종류의 비타민이 포함된 이 군데는 매우 중요합니다. 😎\n",
       "\n",
       "* **B1 (Thiamine):**\n",
       "    * **작용:**  미네랄 형태로 에너지 생성을 유도하는 역할을 합니다. 신경계, 심장 및 근육 기능에 도움을 줍니다. 🧠\n",
       "    * **비타민 B군**: 비타민 B의 일부입니다. \n",
       "\n",
       "* **B2 (Riboflavin):**\n",
       "    * **작용:**  세포 성장과 활성화를 위해 에너지를 분해하는 역할을 합니다. 피부, 눈 등에 영향을 미치고 있습니다. 👀\n",
       "    * **비타민 B군**: 비타민 B의 일부입니다. \n",
       "\n",
       "* **B3 (Niacin):**\n",
       "    * **작용:**  세포 성장과 활성화에 필수적인 역할을 합니다. 심혈관 기능 조절에도 중요한 역할을 합니다. 💪🧠\n",
       "    * **비타민 B군**: 비타민 B의 일부입니다. \n",
       "\n",
       "* **B5 (Pantothenic Acid):** \n",
       "    * **작용:**  세포 신호 전달과 에너지 생성에 관여하는 중요한 역할을 합니다.  생산, 소모 및 운동 등에서 활용됩니다. 🧬💪\n",
       "    * **비타민 B군**: 비타민 B의 일부입니다. \n",
       "\n",
       "* **B6 (Pyridoxine):** \n",
       "    * **작용:**  신경계 기능과 신체 작용을 조절하는 역할을 합니다.  뇌, 신장 및 호르몬 분비에 큰 영향을 미치고 있습니다. 🧠💪 \n",
       "    * **비타민 B군**: 비타민 B의 일부입니다. \n",
       "\n",
       "* **B7 (Biotin):** \n",
       "    * **작용:**  카테콜라민 생성과 세포 성장 및 신경 기능에 중요한 역할을 합니다.  피부와 모발 건강에도 도움을 줄 수 있습니다. 🧬💪 \n",
       "    * **비타민 B군**: 비타민 B의 일부입니다. \n",
       "\n",
       "* **B9 (Folate):** \n",
       "    * **작용:**  식물성 생활 유지 및 발달에 필수적인 역할을 합니다. 신체 기능 활동과 성장에 중요한 역할을 합니다. 🧬💪 \n",
       "    * **비타민 B군**: 비타민 B의 일부입니다.\n",
       "\n",
       "* **B12 (Cobalamin):** \n",
       "    * **작용:**  혈액 생성, 신경계 기능 및 기타 생명 활동에 필수적인 역할을 합니다.  치아 건강에도 중요한 역할을 합니다. 🩸🧠🦷 \n",
       "    * **비타민 B군**: 비타민 B의 일부입니다. \n",
       "\n",
       "**비타민 B는 우리 몸의 에너지 생산과 신경 기능 활성화에 중요한 역할을 하므로, 건강 관리에 매우 중요합니다! 💪 **\n",
       "\n",
       "\n",
       "  더 자세한 정보를 원하시면 문자로 질문해주세요! 😊"
      ],
      "text/plain": [
       "<IPython.core.display.Markdown object>"
      ]
     },
     "metadata": {},
     "output_type": "display_data"
    },
    {
     "name": "stdout",
     "output_type": "stream",
     "text": [
      "==========================\n"
     ]
    },
    {
     "data": {
      "text/markdown": [
       "### **사용자 질문:**\n",
       "어떤 식품을 먹으면 좋아?\n"
      ],
      "text/plain": [
       "<IPython.core.display.Markdown object>"
      ]
     },
     "metadata": {},
     "output_type": "display_data"
    },
    {
     "data": {
      "text/markdown": [
       "### **LLM 응답:**\n",
       " 비타민 B가 풍부한 식품은 다음과 같습니다. 👍\n",
       "\n",
       "* **곡류:** 귀리, 잡곡, 현미, 보리와 같은 곡물은 비타민 B1, B2, B6 및 B9를 함유하고 있습니다. 🌾\n",
       "* **새우, 연어 등 미네랄이 풍부한 생선:** 새우나 연어는 비타민 B가 풍부합니다.  🐟 \n",
       "* **콩과 두부:** 콩과 두부는 비타민 B1을 함유하고 있습니다. 🫘\n",
       "* **브로콜리, 시금치 등 채소**: 브로콜리는 비타민 B2를 함유하고 있으며, 시금치와 같은 채소도 비타민 B가 풍부합니다. 🥦 🌱\n",
       "\n",
       "**비타민 B가 있는 식품을 꾸준히 섭취하면 건강 관리에 도움이 될 수 있습니다.**  \n"
      ],
      "text/plain": [
       "<IPython.core.display.Markdown object>"
      ]
     },
     "metadata": {},
     "output_type": "display_data"
    },
    {
     "name": "stdout",
     "output_type": "stream",
     "text": [
      "==========================\n",
      "대화를 종료합니다.\n"
     ]
    }
   ],
   "source": [
    "# 챗봇 실행\n",
    "chatbot_with_memory()"
   ]
  }
 ],
 "metadata": {
  "kernelspec": {
   "display_name": "base",
   "language": "python",
   "name": "python3"
  },
  "language_info": {
   "codemirror_mode": {
    "name": "ipython",
    "version": 3
   },
   "file_extension": ".py",
   "mimetype": "text/x-python",
   "name": "python",
   "nbconvert_exporter": "python",
   "pygments_lexer": "ipython3",
   "version": "3.12.4"
  }
 },
 "nbformat": 4,
 "nbformat_minor": 2
}
