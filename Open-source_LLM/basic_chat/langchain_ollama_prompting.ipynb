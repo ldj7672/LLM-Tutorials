{
 "cells": [
  {
   "cell_type": "markdown",
   "metadata": {},
   "source": [
    "# **Langchain과 Ollama를 이용한 프롬프트 엔지니어링 예제**\n",
    "\n",
    "**Langchain**과 **Ollama**를 이용해 **Open-source LLM**으로 기본적인 프롬프트 엔지니어링을 구현하는 예제입니다.\n",
    "\n",
    "\n",
    "*본 예제는 구글 코랩 환경이 아닙니다."
   ]
  },
  {
   "cell_type": "markdown",
   "metadata": {},
   "source": [
    "## **1. 환경 세팅**\n",
    "- 개발 환경에 필요 라이브러리 설치 : ollama, langchain, langchain_community,...\n",
    "- 필요 패키지 임포트\n",
    "- Ollama 모델 사용 방법"
   ]
  },
  {
   "cell_type": "code",
   "execution_count": 1,
   "metadata": {},
   "outputs": [],
   "source": [
    "from langchain_community.llms import Ollama\n",
    "from langchain_core.prompts import PromptTemplate\n",
    "from langchain.chains import LLMChain\n",
    "from IPython.display import Markdown, display"
   ]
  },
  {
   "cell_type": "markdown",
   "metadata": {},
   "source": [
    "### Ollama 모델 사용 방법\n",
    "- [Ollama 레포지토리](https://github.com/ollama/ollama?tab=readme-ov-file) 참고하여 OS 별 Ollama 다운로드\n",
    "- `ollama pull {model_name}` 명령어로 로컬에 모델 다운로드\n",
    "- 본 예제에서는 \"gemma2:2b\" 모델 사용 \n",
    "- Ollama 레포지토리에서 모델 라이브러리를 참고하여 원하는 모델 다운로드 가능"
   ]
  },
  {
   "cell_type": "markdown",
   "metadata": {},
   "source": [
    "## **2. 모델 로드**\n",
    "- Ollama를 이용한 오픈소스 LLM 로드\n",
    "  - temperature, top_p 등 하이퍼파라미터 조정\n",
    "- 프롬프트 템플릿 & LLM Chain 생성\n",
    "  - 템플릿을 구성하여 프롬프트 엔지니어링 준비"
   ]
  },
  {
   "cell_type": "code",
   "execution_count": 2,
   "metadata": {},
   "outputs": [
    {
     "name": "stderr",
     "output_type": "stream",
     "text": [
      "/var/folders/h7/y4jd7kf533z0n4r3h9x9pc4c0000gn/T/ipykernel_32179/2297175553.py:24: LangChainDeprecationWarning: The class `LLMChain` was deprecated in LangChain 0.1.17 and will be removed in 1.0. Use :meth:`~RunnableSequence, e.g., `prompt | llm`` instead.\n",
      "  llm_chain = LLMChain(prompt=prompt, llm=llm)\n"
     ]
    }
   ],
   "source": [
    "# Ollama LLM 설정 (하이퍼파라미터 조정: temperature, top_p)\n",
    "llm = Ollama(\n",
    "    model=\"gemma2:2b\", \n",
    "    temperature=0.7,  # 창의성을 적당히 높임\n",
    "    top_p=0.9  # 확률 분포의 상위 90%에서 샘플링\n",
    ")\n",
    "\n",
    "# 프롬프트 템플릿 (프롬프트 엔지니어링 적용)\n",
    "template = \"\"\"\n",
    "context를 고려하여 답변을 생성해주세요.\n",
    "\n",
    "context: {context}\n",
    "\n",
    "질문: {question}\n",
    "답변:\"\"\"\n",
    "\n",
    "# 상황과 질문을 받아 모델이 응답하도록 하는 PromptTemplate\n",
    "prompt = PromptTemplate(\n",
    "    input_variables=[\"context\", \"question\"],\n",
    "    template=template,\n",
    ")\n",
    "\n",
    "# LLMChain 생성\n",
    "llm_chain = LLMChain(prompt=prompt, llm=llm)"
   ]
  },
  {
   "cell_type": "markdown",
   "metadata": {},
   "source": [
    "## **3. Context 기반 질의 응답**\n",
    "- Context를 고려한 질의 응답 진행을 위해 윷놀이 규칙이 담긴 문서 준비\n",
    "- Context 고려한 질의 응답 진행\n",
    "  - 위 코드 template에서 context를 고려하여 답변하도록 프롬프트 작성"
   ]
  },
  {
   "cell_type": "code",
   "execution_count": 3,
   "metadata": {},
   "outputs": [],
   "source": [
    "# 상황과 질문을 정의\n",
    "context = \"\"\"\n",
    "윷놀이 규칙\n",
    "1. 준비물\n",
    "\n",
    "윷: 앞뒤가 다른 네 개의 막대.\n",
    "윷판: 원형 모양의 판, 중앙으로 가는 지름길이 있습니다.\n",
    "말: 각 팀이 사용할 말 4개.\n",
    "2. 플레이어\n",
    "\n",
    "최소 2명에서 4명까지 팀을 이루어 플레이합니다.\n",
    "3. 윷 던지기 윷은 네 개의 막대로 구성되어 있으며, 던진 결과에 따라 다음과 같은 점수를 얻습니다:\n",
    "\n",
    "도: 1칸 이동 (1개만 뒤집힘)\n",
    "개: 2칸 이동 (2개 뒤집힘)\n",
    "걸: 3칸 이동 (3개 뒤집힘)\n",
    "윷: 4칸 이동 (4개 모두 뒤집힘)\n",
    "모: 5칸 이동 (모두 안 뒤집힘)\n",
    "4. 말 이동\n",
    "\n",
    "윷이나 모가 나오면 한 번 더 던질 수 있습니다.\n",
    "말을 이동시키며, 자신의 말 4개가 모두 완주하면 승리합니다.\n",
    "5. 말 업기\n",
    "\n",
    "같은 팀의 말이 한 칸에 모이면 말 업기가 가능합니다. 업힌 말은 함께 이동합니다.\n",
    "6. 잡기\n",
    "\n",
    "상대방의 말을 잡으면, 상대방 말은 시작점으로 돌아갑니다. 잡은 플레이어는 한 번 더 윷을 던집니다.\n",
    "7. 승리 조건\n",
    "\n",
    "자신의 말 4개를 모두 완주시키면 승리합니다.\n",
    "특별 규칙\n",
    "지름길: 중앙으로 가는 지름길을 통해 빠르게 이동할 수 있습니다.\n",
    "말의 이동 선택: 윷을 던질 때, 여러 개의 말 중 어느 말이 이동할지 선택할 수 있습니다.\n",
    "윷놀이는 간단하면서도 전략적인 게임으로, 운과 실력을 모두 요구하는 한국 전통 놀이입니다.\n",
    "\"\"\""
   ]
  },
  {
   "cell_type": "code",
   "execution_count": 4,
   "metadata": {},
   "outputs": [
    {
     "name": "stderr",
     "output_type": "stream",
     "text": [
      "/var/folders/h7/y4jd7kf533z0n4r3h9x9pc4c0000gn/T/ipykernel_32179/1700282676.py:3: LangChainDeprecationWarning: The method `Chain.run` was deprecated in langchain 0.1.0 and will be removed in 1.0. Use :meth:`~invoke` instead.\n",
      "  response = llm_chain.run(context=context, question=question)\n"
     ]
    },
    {
     "name": "stdout",
     "output_type": "stream",
     "text": [
      "LLM 답변:\n"
     ]
    },
    {
     "data": {
      "text/markdown": [
       "윷놀이에서 상대방의 말을 잡으면, **상대방 말은 시작점으로 돌아갑니다.**  그리고 잡은 플레이어는 한 번 더 윷을 던질 수 있습니다. \n"
      ],
      "text/plain": [
       "<IPython.core.display.Markdown object>"
      ]
     },
     "execution_count": 4,
     "metadata": {},
     "output_type": "execute_result"
    }
   ],
   "source": [
    "question = \"윷놀이에서 상대방 말을 잡으면 어떻게 돼?\"\n",
    "\n",
    "response = llm_chain.run(context=context, question=question)\n",
    "print(\"LLM 답변:\")\n",
    "Markdown(response)"
   ]
  },
  {
   "cell_type": "markdown",
   "metadata": {},
   "source": [
    "## **4. Few-shot Learning 질의 응답**\n",
    "- Few-shot Learning 방법 예시"
   ]
  },
  {
   "cell_type": "code",
   "execution_count": 5,
   "metadata": {},
   "outputs": [],
   "source": [
    "# Few-shot Learning 추가 예시 (Few-shot을 통한 학습 예제 제공)\n",
    "few_shot_template = \"\"\"\n",
    "다음 질문 - 답변 형식에 맞게 답변을 생성해주세요\n",
    "\n",
    "1. 질문: AI 연구를 시작하려면 어떤 것을 공부해야 하나요?\n",
    "   답변: 기초 프로그래밍, 선형대수학, 확률론, 그리고 기본적인 머신러닝 개념을 공부해야 합니다.\n",
    "\n",
    "2. 질문: 딥러닝을 공부하기 전에 필요한 기초 지식은 무엇인가요?\n",
    "   답변: 미적분학, 행렬 연산, 확률분포, 그리고 그래디언트 기반 최적화 기법을 숙지해야 합니다.\n",
    "\n",
    "3. 질문: {question}\n",
    "   답변:\n",
    "\"\"\"\n",
    "\n",
    "few_shot_prompt = PromptTemplate(\n",
    "    input_variables=[\"question\"],\n",
    "    template=few_shot_template,\n",
    ")\n",
    "llm_chain_few_shot = LLMChain(prompt=few_shot_prompt, llm=llm)"
   ]
  },
  {
   "cell_type": "code",
   "execution_count": 6,
   "metadata": {},
   "outputs": [
    {
     "name": "stdout",
     "output_type": "stream",
     "text": [
      "Few-shot Learning 기반 LLM 답변:\n"
     ]
    },
    {
     "data": {
      "text/markdown": [
       "강화학습을 공부하려면 다음과 같은 지식이 필요합니다.\n",
       "\n",
       "* **머신러닝 기초**:  AI의 핵심 개념들을 이해하는 것이 중요합니다.  특히 학습 과정, 모델 구조, 데이터 처리 등에 대한 이해가 필요합니다.\n",
       "* **기하학적 접근**: 강화학습은 특수한 변수와 관계를 분석하여 모델을 학습시키는 방식입니다. 이러한 접근방식을 이해해야 합니다. \n",
       "\n",
       "강화학습은 다양한 분야에서 활용되는 복잡한 알고리즘이므로, 기초 지식을 바탕으로 구체적인 방법과 정의를 파악하는 것이 중요합니다.\n",
       "\n",
       "\n",
       "**추가적으로**:\n",
       "\n",
       "* **Python:** 강화학습을 위한 주요 언어입니다.  \n",
       "* **numpy**: Python에서 데이터 처리 및 계산에 사용되는 라이브러리 \n",
       "\n",
       "\n",
       "\n"
      ],
      "text/plain": [
       "<IPython.core.display.Markdown object>"
      ]
     },
     "execution_count": 6,
     "metadata": {},
     "output_type": "execute_result"
    }
   ],
   "source": [
    "# 사용자 질문에 few-shot으로 응답\n",
    "\n",
    "question = \"강화학습을 공부하려면 무엇을 알아야 하나요?\"\n",
    "\n",
    "response_few_shot = llm_chain_few_shot.run(question=question)\n",
    "print(\"Few-shot Learning 기반 LLM 답변:\")\n",
    "Markdown(response_few_shot)"
   ]
  }
 ],
 "metadata": {
  "kernelspec": {
   "display_name": "base",
   "language": "python",
   "name": "python3"
  },
  "language_info": {
   "codemirror_mode": {
    "name": "ipython",
    "version": 3
   },
   "file_extension": ".py",
   "mimetype": "text/x-python",
   "name": "python",
   "nbconvert_exporter": "python",
   "pygments_lexer": "ipython3",
   "version": "3.12.4"
  }
 },
 "nbformat": 4,
 "nbformat_minor": 2
}
